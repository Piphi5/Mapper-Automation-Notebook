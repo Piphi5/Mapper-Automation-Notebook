{
 "cells": [
  {
   "cell_type": "code",
   "execution_count": 1,
   "metadata": {},
   "outputs": [],
   "source": [
    "import pandas as pd\n",
    "def generate_AOI(centerlat, centerlon):\n",
    "    # stores all points\n",
    "    mapper_coordinates = []\n",
    "    \n",
    "    # add center point to grid\n",
    "    mapper_coordinates.append([centerlat, centerlon])\n",
    "\n",
    "    # finds the top left grid point by going 1250m N and 1250m W\n",
    "    lat = centerlat + 5/2 * .0045\n",
    "    long = centerlon - 5/2 * .0057\n",
    "    \n",
    "    # generates points and adds to list\n",
    "    for i in range(6):\n",
    "        for j in range(6):\n",
    "            mapper_coordinates.append([lat, long + j * .0057])\n",
    "        lat -= .0045\n",
    "        \n",
    "    # creates a csv file with Latitude and Longitude for use in Google My Maps or ArcGIS\n",
    "    mapper_df = pd.DataFrame(mapper_coordinates, columns = [\"Latitude\", \"Longitude\"])\n",
    "    mapper_df.to_csv(\"AOI_Points.csv\")"
   ]
  },
  {
   "cell_type": "code",
   "execution_count": 2,
   "metadata": {},
   "outputs": [],
   "source": [
    "# generates csv file\n",
    "generate_AOI(33.160201, -96.612480)"
   ]
  }
 ],
 "metadata": {
  "kernelspec": {
   "display_name": "Python 3",
   "language": "python",
   "name": "python3"
  },
  "language_info": {
   "codemirror_mode": {
    "name": "ipython",
    "version": 3
   },
   "file_extension": ".py",
   "mimetype": "text/x-python",
   "name": "python",
   "nbconvert_exporter": "python",
   "pygments_lexer": "ipython3",
   "version": "3.7.6"
  }
 },
 "nbformat": 4,
 "nbformat_minor": 4
}
