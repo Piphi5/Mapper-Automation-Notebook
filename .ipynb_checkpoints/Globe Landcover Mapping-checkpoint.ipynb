{
 "cells": [
  {
   "cell_type": "code",
   "execution_count": 2,
   "metadata": {},
   "outputs": [
    {
     "name": "stdout",
     "output_type": "stream",
     "text": [
      "[[33.174462, -96.728758], [33.174462, -96.723058], [33.174462, -96.717358], [33.174462, -96.711658], [33.174462, -96.705958], [33.174462, -96.700258], [33.169962, -96.728758], [33.169962, -96.723058], [33.169962, -96.717358], [33.169962, -96.711658], [33.169962, -96.705958], [33.169962, -96.700258], [33.165462, -96.728758], [33.165462, -96.723058], [33.165462, -96.717358], [33.165462, -96.711658], [33.165462, -96.705958], [33.165462, -96.700258], [33.160962, -96.728758], [33.160962, -96.723058], [33.160962, -96.717358], [33.160962, -96.711658], [33.160962, -96.705958], [33.160962, -96.700258], [33.156462, -96.728758], [33.156462, -96.723058], [33.156462, -96.717358], [33.156462, -96.711658], [33.156462, -96.705958], [33.156462, -96.700258], [33.151962, -96.728758], [33.151962, -96.723058], [33.151962, -96.717358], [33.151962, -96.711658], [33.151962, -96.705958], [33.151962, -96.700258]]\n"
     ]
    }
   ],
   "source": [
    "# coordinate generator\n",
    "starting_coordinates = [33.174462, -96.728758]\n",
    "mapper_coordinates = []\n",
    "lat = starting_coordinates[0]\n",
    "long = starting_coordinates[1]\n",
    "for i in range(6):\n",
    "    for j in range(6):\n",
    "        mapper_coordinates.append([lat, long + j * .0057])\n",
    "    lat -= .0045\n",
    "\n",
    "print(mapper_coordinates)\n"
   ]
  },
  {
   "cell_type": "code",
   "execution_count": 52,
   "metadata": {},
   "outputs": [],
   "source": [
    "from pynput import keyboard\n",
    "from pynput import mouse\n",
    "import re\n",
    "\n",
    "# quick script to book mark coodrinates on google maps\n",
    "keyboard = keyboard.Controller()\n",
    "mouse = mouse.Controller()\n",
    "\n",
    "for coord in mapper_coordinates:\n",
    "    move_mouse(106, 139)\n",
    "    time.sleep(1)\n",
    "    \n",
    "    # selects all current text\n",
    "    with keyboard.pressed(Key.ctrl):\n",
    "        keyboard.press('a')\n",
    "        keyboard.release('a')\n",
    "        time.sleep(1)\n",
    "    # enters coordinates\n",
    "    msg = re.sub(r'\\[|]',\"\", str(coord))\n",
    "    keyboard.type(msg)\n",
    "\n",
    "\n",
    "    # searches then bookmarks\n",
    "    keyboard.press(Key.enter)\n",
    "    keyboard.release(Key.enter)\n",
    "    time.sleep(2)\n",
    "    move_mouse(136, 470)\n",
    "    time.sleep(1)\n",
    "    move_mouse(197, 569)\n",
    "    time.sleep(1)\n"
   ]
  },
  {
   "cell_type": "markdown",
   "metadata": {},
   "source": [
    "# Generated Output\n",
    "The script above bookmarked the generated coordinates into google maps but it was a fast and sloppy implementation that others probably can't use. This is the output that this script generated:\n",
    "![](mappercoords.PNG)\n",
    "\n",
    "Unfortunately google directions does not calculate directions for bookmarks, but you can still use paste the coordinates into a multi stop google maps route. This let me make modifications to the stops in the route in case of buildings, etc. and then have google figure out directions for me to follow before I left my house."
   ]
  },
  {
   "cell_type": "code",
   "execution_count": 37,
   "metadata": {},
   "outputs": [],
   "source": [
    "# helper functions\n",
    "def move_mouse(x, y):\n",
    "    curr_pos = mouse.position\n",
    "    target_pos = (x, y)\n",
    "    diff = tuple(map(lambda d1, d2: d2 - d1, curr_pos, target_pos))\n",
    "\n",
    "    mouse.move(diff[0], diff[1])\n",
    "    click()\n",
    "def click():\n",
    "    mouse.press(Button.left)\n",
    "    mouse.release(Button.left)"
   ]
  },
  {
   "cell_type": "code",
   "execution_count": 47,
   "metadata": {},
   "outputs": [
    {
     "name": "stdout",
     "output_type": "stream",
     "text": [
      "(197, 569)\n"
     ]
    }
   ],
   "source": [
    "# getting the mouse position\n",
    "print(mouse.position)\n",
    "# search button: (106, 139)\n",
    "# Save button: (136, 470)\n",
    "# Bookmark button: (197, 569)"
   ]
  },
  {
   "cell_type": "code",
   "execution_count": 3,
   "metadata": {},
   "outputs": [
    {
     "name": "stdout",
     "output_type": "stream",
     "text": [
      "33.163212, -96.71450800000001\n"
     ]
    }
   ],
   "source": [
    "# getting center coords\n",
    "center_lat = mapper_coordinates[14][0] - .0045/2\n",
    "center_long = mapper_coordinates[14][1] + .0057/2\n",
    "\n",
    "print(str(center_lat) + \", \" + str(center_long))"
   ]
  },
  {
   "cell_type": "code",
   "execution_count": 3,
   "metadata": {},
   "outputs": [
    {
     "name": "stdout",
     "output_type": "stream",
     "text": [
      "33.163212, -96.71450800000001\n"
     ]
    }
   ],
   "source": [
    "\n"
   ]
  }
 ],
 "metadata": {
  "kernelspec": {
   "display_name": "Python 3",
   "language": "python",
   "name": "python3"
  },
  "language_info": {
   "codemirror_mode": {
    "name": "ipython",
    "version": 3
   },
   "file_extension": ".py",
   "mimetype": "text/x-python",
   "name": "python",
   "nbconvert_exporter": "python",
   "pygments_lexer": "ipython3",
   "version": "3.7.6"
  }
 },
 "nbformat": 4,
 "nbformat_minor": 4
}
