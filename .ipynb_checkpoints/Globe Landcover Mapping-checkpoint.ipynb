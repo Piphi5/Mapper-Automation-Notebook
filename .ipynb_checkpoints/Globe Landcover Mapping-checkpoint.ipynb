{
 "cells": [
  {
   "cell_type": "code",
   "execution_count": 1,
   "metadata": {},
   "outputs": [],
   "source": [
    "import pandas as pd\n",
    "def generate_AOI(centerlat, centerlon):\n",
    "    # stores all points\n",
    "    mapper_coordinates = []\n",
    "    \n",
    "    # add center point to grid\n",
    "    mapper_coordinates.append([centerlat, centerlon])\n",
    "\n",
    "    # finds the top left grid point by going 1250m N and 1250m W\n",
    "    lat = centerlat + 5/2 * .0045\n",
    "    long = centerlon - 5/2 * .0057\n",
    "    \n",
    "    # generates points and adds to list\n",
    "    for i in range(6):\n",
    "        for j in range(6):\n",
    "            mapper_coordinates.append([lat, long + j * .0057])\n",
    "        lat -= .0045\n",
    "        \n",
    "    # creates a csv file with Latitude and Longitude for use in Google My Maps or ArcGIS\n",
    "    mapper_df = pd.DataFrame(mapper_coordinates, columns = [\"Latitude\", \"Longitude\"])\n",
    "    mapper_df.to_csv(\"AOI_Points.csv\")"
   ]
  },
  {
   "cell_type": "code",
   "execution_count": 3,
   "metadata": {},
   "outputs": [],
   "source": [
    "# generates csv file\n",
    "generate_AOI(33.160201, -96.612480)"
   ]
  },
  {
   "cell_type": "markdown",
   "metadata": {},
   "source": [
    "# Usage\n",
    "\n",
    "The script above creates a CSV file (to be imported into Google My Maps or ArcGIS) containing a 36 point grid spaced out by 500m from the Latitude, Longitude coordinates of a centerpoint. The center point can be found through google maps or other GIS services.\n",
    "\n",
    "## Example Run:\n",
    "(Quick Example using Google Maps and Google My Maps)\n",
    "\n",
    "Go onto Google Maps, and click on your desired centerpoint.\n",
    "![](tutorial_images\\MM_SampleCenter.PNG)\n",
    "Then get the coordinates of the centerpoint.\n",
    "![](tutorial_images\\MM_SampleCenterCoords.PNG)\n",
    "\n",
    "Now, run the script with the latitude and longitudes of this center point. The program will generate a CSV called \"AOI_Points.csv\".\n",
    "\n",
    "\n",
    "With the CSV file, we can import it into Google MyMaps. \n",
    "![](tutorial_images\\MM_Add.PNG)\n",
    "![](tutorial_images\\MM_import.PNG)\n",
    "Select these settings to help my maps setup:\n",
    "![](tutorial_images\\MM_setupColumns.PNG)\n",
    "![](tutorial_images\\MM_title.PNG)\n",
    "\n",
    "From here, you can move around any points that might be unaccessible (e.g ontop of a house, lake, etc.) and then you can generate directions to collect your points.\n",
    "\n",
    "![](tutorial_images\\MM_finalproduct.PNG)\n",
    "![](tutorial_images\\MM_SampleDirection.PNG)\n",
    "\n",
    "\n",
    "\n"
   ]
  }
 ],
 "metadata": {
  "kernelspec": {
   "display_name": "Python 3",
   "language": "python",
   "name": "python3"
  },
  "language_info": {
   "codemirror_mode": {
    "name": "ipython",
    "version": 3
   },
   "file_extension": ".py",
   "mimetype": "text/x-python",
   "name": "python",
   "nbconvert_exporter": "python",
   "pygments_lexer": "ipython3",
   "version": "3.7.6"
  }
 },
 "nbformat": 4,
 "nbformat_minor": 4
}
